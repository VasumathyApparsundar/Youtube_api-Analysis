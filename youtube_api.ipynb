{
 "cells": [
  {
   "cell_type": "code",
   "execution_count": null,
   "id": "07440688-06ca-49a4-8eed-fa983bac6cf7",
   "metadata": {
    "tags": []
   },
   "outputs": [],
   "source": [
    "!pip install google-api-python-client"
   ]
  },
  {
   "cell_type": "code",
   "execution_count": null,
   "id": "3084b6b0-2297-456a-bc5f-347ed3268f1f",
   "metadata": {
    "tags": []
   },
   "outputs": [],
   "source": [
    "from googleapiclient.discovery import build\n",
    "from googleapiclient.errors import HttpError\n",
    "import pandas as pd\n",
    "from IPython.display import JSON\n"
   ]
  },
  {
   "cell_type": "code",
   "execution_count": null,
   "id": "742b0493-3b70-425c-8cbe-ce9a9ef19c7d",
   "metadata": {
    "tags": []
   },
   "outputs": [],
   "source": [
    "api_key = 'Your API Key'"
   ]
  },
  {
   "cell_type": "code",
   "execution_count": null,
   "id": "39b253b3-34f5-4450-9d64-7661156cd407",
   "metadata": {
    "tags": []
   },
   "outputs": [],
   "source": [
    "channel_ids = ['UCk3JZr7eS3pg5AGEvBdEvFg', # Village cooking channel\n",
    "               'UCiPmhfdCL06cSVTXKabF0Zg', # Nakkalites\n",
    "               'UC5EQWvy59VeHPJz8mDALPxg', # Micset\n",
    "               'UCY6KjrDBN_tIRFT_QNqQbRQ', # Madan gowri\n",
    "               'UCHGktfcQq2BY_8tGPHwvm7g'  # Madras Samayal\n",
    "              ]"
   ]
  },
  {
   "cell_type": "code",
   "execution_count": null,
   "id": "6db25c95-af79-4619-826f-c187c1b948e4",
   "metadata": {
    "tags": []
   },
   "outputs": [],
   "source": [
    "api_service_name = \"youtube\"\n",
    "api_version = \"v3\"\n",
    "\n",
    "# Get credentials and create an API client\n",
    "youtube = build(\n",
    "    api_service_name, api_version, developerKey=api_key)"
   ]
  },
  {
   "cell_type": "code",
   "execution_count": null,
   "id": "738059c0-4d4a-4323-854e-daf02b93cf8e",
   "metadata": {
    "tags": []
   },
   "outputs": [],
   "source": [
    "# Get channel stats using channel_ids\n",
    "def get_channel_stats(youtube, channel_ids):\n",
    "\n",
    "    all_data = []\n",
    "    \n",
    "    request = youtube.channels().list(\n",
    "        part=\"snippet,contentDetails,statistics\",\n",
    "        id= ','.join(channel_ids)\n",
    "    )\n",
    "    response = request.execute()\n",
    "    \n",
    "    #loop through items\n",
    "    for item in response['items']:\n",
    "        data = {'channelName': item['snippet']['title'],\n",
    "                'subscribers': item['statistics']['subscriberCount'],\n",
    "                'views': item['statistics']['viewCount'],\n",
    "                'totalVideos': item['statistics']['videoCount'],\n",
    "                'playlistId': item['contentDetails']['relatedPlaylists']['uploads']\n",
    "        }\n",
    "        all_data.append(data)\n",
    "\n",
    "    return(pd.DataFrame(all_data)) \n"
   ]
  },
  {
   "cell_type": "code",
   "execution_count": null,
   "id": "101e8cda-95f9-4e76-b062-36569ae7838f",
   "metadata": {
    "tags": []
   },
   "outputs": [],
   "source": [
    "channel_stats = get_channel_stats(youtube, channel_ids)\n",
    "channel_stats.head(5)"
   ]
  },
  {
   "cell_type": "code",
   "execution_count": null,
   "id": "aac6050e-897b-4821-ac07-20333be0a38a",
   "metadata": {
    "tags": []
   },
   "outputs": [],
   "source": [
    "# get video ids using playlist ids of each channel\n",
    "def get_video_ids(youtube, playlist_id):\n",
    "    \n",
    "    request = youtube.playlistItems().list(\n",
    "                part='contentDetails',\n",
    "                playlistId = playlist_id,\n",
    "                maxResults = 50)\n",
    "    response = request.execute()\n",
    "    \n",
    "    video_ids = []\n",
    "    \n",
    "    for i in range(len(response['items'])):\n",
    "        video_ids.append(response['items'][i]['contentDetails']['videoId'])\n",
    "        \n",
    "    next_page_token = response.get('nextPageToken')\n",
    "    more_pages = True\n",
    "    \n",
    "    while more_pages:\n",
    "        if next_page_token is None:\n",
    "            more_pages = False\n",
    "        else:\n",
    "            request = youtube.playlistItems().list(\n",
    "                        part='contentDetails',\n",
    "                        playlistId = playlist_id,\n",
    "                        maxResults = 50,\n",
    "                        pageToken = next_page_token)\n",
    "            response = request.execute()\n",
    "    \n",
    "            for i in range(len(response['items'])):\n",
    "                video_ids.append(response['items'][i]['contentDetails']['videoId'])\n",
    "            \n",
    "            next_page_token = response.get('nextPageToken')\n",
    "        \n",
    "    return video_ids"
   ]
  },
  {
   "cell_type": "code",
   "execution_count": null,
   "id": "782d31c8-4947-429f-8f62-be6fcb035368",
   "metadata": {
    "tags": []
   },
   "outputs": [],
   "source": [
    "# combining all the video ids together\n",
    "combined_video_ids = []\n",
    "for playlist_id in channel_stats['playlistId']:\n",
    "    video_ids = get_video_ids(youtube, playlist_id)\n",
    "    combined_video_ids.extend(video_ids)"
   ]
  },
  {
   "cell_type": "code",
   "execution_count": null,
   "id": "dc6dd36a-c62f-4025-86bc-474aa9995800",
   "metadata": {
    "tags": []
   },
   "outputs": [],
   "source": [
    "len(combined_video_ids)"
   ]
  },
  {
   "cell_type": "code",
   "execution_count": null,
   "id": "2bfe5267-62ee-4239-a436-cca6bea1c48c",
   "metadata": {
    "tags": []
   },
   "outputs": [],
   "source": [
    "# get the video details using video ids\n",
    "def get_video_details(youtube,combined_video_ids):\n",
    "\n",
    "    all_video_info = []\n",
    "\n",
    "    for i in range(0,len(combined_video_ids), 50):\n",
    "        request = youtube.videos().list(\n",
    "            part = \"snippet,contentDetails,statistics\",\n",
    "            id = ','.join(combined_video_ids[i:i+50])\n",
    "        )\n",
    "        response = request.execute()\n",
    "\n",
    "        for video in response['items']:\n",
    "            stats_to_keep = {'snippet':['channelTitle', 'title',  'publishedAt', 'tags', 'description'],\n",
    "                             'statistics': ['viewCount', 'likeCount', 'commentCount'],\n",
    "                             'contentDetails': ['duration', 'definition', 'caption']\n",
    "                            }\n",
    "            video_info = {}\n",
    "            video_info['video_id'] = video['id']\n",
    "\n",
    "            for k in stats_to_keep.keys():\n",
    "                for v in stats_to_keep[k]:\n",
    "                    try:\n",
    "                        video_info[v] = video[k][v]\n",
    "                    except:\n",
    "                        video_info[v] = None\n",
    "                    \n",
    "            all_video_info.append(video_info)\n",
    "\n",
    "    return pd.DataFrame(all_video_info)"
   ]
  },
  {
   "cell_type": "code",
   "execution_count": null,
   "id": "1ff1b4aa-dadd-4915-92fe-8ebc134651c0",
   "metadata": {
    "tags": []
   },
   "outputs": [],
   "source": [
    "video_df = get_video_details(youtube,combined_video_ids)"
   ]
  },
  {
   "cell_type": "code",
   "execution_count": null,
   "id": "de24cbe3-7c0e-4942-8317-9aa5c876b86c",
   "metadata": {
    "tags": []
   },
   "outputs": [],
   "source": [
    "video_df.head(5)"
   ]
  },
  {
   "cell_type": "code",
   "execution_count": null,
   "id": "76eb680a-2f5a-4a7b-b455-b0166c045353",
   "metadata": {
    "tags": []
   },
   "outputs": [],
   "source": [
    "def get_comments_in_videos(youtube, combined_video_ids):\n",
    "    all_comments = []\n",
    "    \n",
    "    for video_id in combined_video_ids:\n",
    "        try:   \n",
    "            request = youtube.commentThreads().list(\n",
    "                part=\"snippet,replies\",\n",
    "                videoId=video_id\n",
    "            )\n",
    "            response = request.execute()\n",
    "        \n",
    "            comments_in_video = [comment['snippet']['topLevelComment']['snippet']['textOriginal'] for comment in response['items'][0:10]]\n",
    "            comments_in_video_info = {'video_id': video_id, 'comments': comments_in_video}\n",
    "\n",
    "            all_comments.append(comments_in_video_info)\n",
    "            \n",
    "        except: \n",
    "            # When error occurs - most likely because comments are disabled on a video\n",
    "            print('Could not get comments for video ' + video_id)\n",
    "        \n",
    "    return pd.DataFrame(all_comments) "
   ]
  },
  {
   "cell_type": "code",
   "execution_count": null,
   "id": "24556017-514e-4117-9d4d-e88c5220da6b",
   "metadata": {
    "tags": []
   },
   "outputs": [],
   "source": [
    "comments_df = get_comments_in_videos(youtube, combined_video_ids)"
   ]
  },
  {
   "cell_type": "code",
   "execution_count": null,
   "id": "3f137d4c-c090-4534-bda0-7a39bf534919",
   "metadata": {
    "tags": []
   },
   "outputs": [],
   "source": [
    "comments_df.head(5)"
   ]
  },
  {
   "cell_type": "code",
   "execution_count": null,
   "id": "3cf2fdbb-887c-44bb-8f0b-b9fcd7ddecb7",
   "metadata": {
    "tags": []
   },
   "outputs": [],
   "source": [
    "video_df.head(5)"
   ]
  },
  {
   "cell_type": "code",
   "execution_count": null,
   "id": "a4b7e2ed-0978-411e-a6b2-0a050ebffedd",
   "metadata": {
    "tags": []
   },
   "outputs": [],
   "source": [
    " video_df.to_csv(\"C:/Users/Vasu/Desktop/API projects/youtube_api/youtube_Video.csv\", index = False)"
   ]
  },
  {
   "cell_type": "code",
   "execution_count": null,
   "id": "77443db1-ed16-475f-8d6e-2295d06afbdd",
   "metadata": {
    "tags": []
   },
   "outputs": [],
   "source": [
    " comments_df.to_csv(\"C:/Users/Vasu/Desktop/API projects/youtube_api/youtube_comments.csv\", index = False)"
   ]
  },
  {
   "cell_type": "code",
   "execution_count": null,
   "id": "0440747c-f26d-445c-934e-5cf53269ee40",
   "metadata": {
    "tags": []
   },
   "outputs": [],
   "source": [
    "video_df.isnull().any()"
   ]
  },
  {
   "cell_type": "code",
   "execution_count": null,
   "id": "5671616e-8029-4234-9d51-be5e0de206fb",
   "metadata": {},
   "outputs": [],
   "source": [
    "video_df.dtypes"
   ]
  },
  {
   "cell_type": "code",
   "execution_count": null,
   "id": "401e0014-0874-4bfd-ae39-e441628a5508",
   "metadata": {
    "tags": []
   },
   "outputs": [],
   "source": [
    "# converting multiole columns to numeric\n",
    "cols_to_convert = ['viewCount', 'likeCount', 'commentCount']\n",
    "video_df[cols_to_convert] = video_df[cols_to_convert].apply(pd.to_numeric)"
   ]
  },
  {
   "cell_type": "code",
   "execution_count": null,
   "id": "e79ab41a-ae52-4d30-8547-674520e30014",
   "metadata": {
    "tags": []
   },
   "outputs": [],
   "source": [
    "video_df.dtypes"
   ]
  },
  {
   "cell_type": "code",
   "execution_count": null,
   "id": "2a60ff6a-a083-4cb2-8b80-1a8f1181afe3",
   "metadata": {
    "tags": []
   },
   "outputs": [],
   "source": [
    "# convert publishedAt to datetime\n",
    "video_df['publishedAt'] = pd.to_datetime(video_df['publishedAt'])"
   ]
  },
  {
   "cell_type": "code",
   "execution_count": null,
   "id": "e1d6a4c5-a5de-4133-bab3-db517f8fab17",
   "metadata": {
    "tags": []
   },
   "outputs": [],
   "source": [
    "# extract date, time, and day\n",
    "video_df['date'] = video_df['publishedAt'].dt.date\n",
    "video_df['time'] = video_df['publishedAt'].dt.time\n",
    "video_df['day'] = video_df['publishedAt'].dt.day_name()"
   ]
  },
  {
   "cell_type": "code",
   "execution_count": null,
   "id": "b21217ee-25ef-4513-abf7-db7a3bb1b2ff",
   "metadata": {
    "tags": []
   },
   "outputs": [],
   "source": [
    "video_df.head(5)"
   ]
  },
  {
   "cell_type": "code",
   "execution_count": null,
   "id": "7e7a46e6-99c2-4e0e-85cb-0ede39ff1319",
   "metadata": {
    "tags": []
   },
   "outputs": [],
   "source": [
    "video_df.drop(columns=['publishedAt'], inplace=True)"
   ]
  },
  {
   "cell_type": "code",
   "execution_count": null,
   "id": "a09dbe94-6312-4e4c-b891-8f705e41a80d",
   "metadata": {
    "tags": []
   },
   "outputs": [],
   "source": [
    "video_df.head(5)"
   ]
  },
  {
   "cell_type": "code",
   "execution_count": null,
   "id": "93ba8eb2-6158-4e07-af62-016f896de45c",
   "metadata": {
    "tags": []
   },
   "outputs": [],
   "source": [
    "!pip install isodate"
   ]
  },
  {
   "cell_type": "code",
   "execution_count": null,
   "id": "9aab10a1-939f-4516-a6dd-7870efbc2350",
   "metadata": {
    "tags": []
   },
   "outputs": [],
   "source": [
    "import isodate"
   ]
  },
  {
   "cell_type": "code",
   "execution_count": null,
   "id": "d969c35f-3218-407d-887c-348688a9541b",
   "metadata": {
    "tags": []
   },
   "outputs": [],
   "source": [
    "# parsing the youtube duration data into minutes and seconds using 'isodate' library\n",
    "def parse_duration(duration):\n",
    "    duration_parsed = isodate.parse_duration(duration)\n",
    "    total_seconds = int(duration_parsed.total_seconds())\n",
    "    minutes = total_seconds // 60\n",
    "    seconds = total_seconds % 60\n",
    "    return f\"{minutes}m {seconds}s\"  "
   ]
  },
  {
   "cell_type": "code",
   "execution_count": null,
   "id": "7e1dac36-0960-4b5e-9a86-1aa0207dbc97",
   "metadata": {
    "tags": []
   },
   "outputs": [],
   "source": [
    "# Apply the function to the 'duration' column\n",
    "video_df['duration'] = video_df['duration'].apply(parse_duration)"
   ]
  },
  {
   "cell_type": "code",
   "execution_count": null,
   "id": "3db3fa68-a0c8-43b7-aa6e-b0c3b32f17e0",
   "metadata": {
    "tags": []
   },
   "outputs": [],
   "source": [
    "video_df.head(5)"
   ]
  },
  {
   "cell_type": "code",
   "execution_count": null,
   "id": "f19d9b06-708f-4f80-bb5b-96686701bc5c",
   "metadata": {
    "tags": []
   },
   "outputs": [],
   "source": [
    "# calculating the number of tags\n",
    "def count_tags(tags):\n",
    "    if tags is None:\n",
    "        return 0\n",
    "    return len(tags)"
   ]
  },
  {
   "cell_type": "code",
   "execution_count": null,
   "id": "88edf083-bf9b-4bdd-acb0-8f0cf1d06002",
   "metadata": {
    "tags": []
   },
   "outputs": [],
   "source": [
    "video_df['tag_count'] = video_df['tags'].apply(count_tags)"
   ]
  },
  {
   "cell_type": "code",
   "execution_count": null,
   "id": "c769ad0b-b1bb-4e11-8be3-46dcbaa51b64",
   "metadata": {
    "tags": []
   },
   "outputs": [],
   "source": [
    "video_df.head(5)"
   ]
  },
  {
   "cell_type": "code",
   "execution_count": null,
   "id": "f84c8bb7-bf28-4a77-82f9-5a4749c33a02",
   "metadata": {
    "tags": []
   },
   "outputs": [],
   "source": [
    "# extracting title length\n",
    "video_df['title_length'] = video_df['title'].apply(lambda x: len(x))"
   ]
  },
  {
   "cell_type": "code",
   "execution_count": null,
   "id": "9ffe498f-0904-4f31-92be-79cf680b96be",
   "metadata": {
    "tags": []
   },
   "outputs": [],
   "source": [
    "video_df.head(5)"
   ]
  },
  {
   "cell_type": "code",
   "execution_count": null,
   "id": "dd59bc44-e295-4f9e-b528-a9a6fdbab249",
   "metadata": {},
   "outputs": [],
   "source": [
    "channel_stats"
   ]
  },
  {
   "cell_type": "code",
   "execution_count": null,
   "id": "9488c9c3-5608-45b5-b7b7-3ef97d89aa5b",
   "metadata": {
    "tags": []
   },
   "outputs": [],
   "source": [
    "# converting multiple columns to numeric\n",
    "cols_to_convert = ['subscribers', 'views', 'totalVideos']\n",
    "channel_stats[cols_to_convert] = channel_stats[cols_to_convert].apply(pd.to_numeric)"
   ]
  },
  {
   "cell_type": "code",
   "execution_count": null,
   "id": "2a29670b-30b2-4b47-86ad-fd993e9670c5",
   "metadata": {
    "tags": []
   },
   "outputs": [],
   "source": [
    "import seaborn as sns\n",
    "import matplotlib.pyplot as plt\n",
    "from matplotlib.ticker import FuncFormatter"
   ]
  },
  {
   "cell_type": "code",
   "execution_count": null,
   "id": "c4ea4ada-219e-4957-99e9-a47b2f7f11a8",
   "metadata": {
    "tags": []
   },
   "outputs": [],
   "source": [
    "sns.set(rc={'figure.figsize': (10, 8)})\n",
    "ax = sns.barplot(x = 'channelName',\n",
    "            y = 'subscribers',\n",
    "            data = channel_stats.sort_values('subscribers', ascending = False),\n",
    "            palette = 'viridis')\n",
    "ax.yaxis.set_major_formatter(FuncFormatter(lambda x, pos: f'{int(x/1000)}K'))\n",
    "plot = ax.set_xticklabels(ax.get_xticklabels(),rotation = 90)"
   ]
  },
  {
   "cell_type": "code",
   "execution_count": null,
   "id": "4b6e55aa-0038-4f17-a317-5c60026a5aef",
   "metadata": {
    "tags": []
   },
   "outputs": [],
   "source": [
    "ax = sns.barplot(x = 'channelName',\n",
    "            y = 'views',\n",
    "            data = channel_stats.sort_values('views', ascending = False),\n",
    "            palette = 'viridis')\n",
    "ax.yaxis.set_major_formatter(FuncFormatter(lambda x, pos: f'{int(x/1000)}K'))\n",
    "plot = ax.set_xticklabels(ax.get_xticklabels(),rotation = 90)"
   ]
  },
  {
   "cell_type": "code",
   "execution_count": null,
   "id": "9994b909-1e6d-4ca2-a26f-d4cf14ff7890",
   "metadata": {
    "tags": []
   },
   "outputs": [],
   "source": [
    "ax = sns.barplot(x = 'channelName',\n",
    "            y = 'totalVideos',\n",
    "            data = channel_stats.sort_values('totalVideos', ascending = False),\n",
    "            palette = 'viridis')\n",
    "ax.yaxis.set_major_formatter(FuncFormatter(lambda x, pos: f'{int(x/1000)}K'))\n",
    "plot = ax.set_xticklabels(ax.get_xticklabels(),rotation = 90)"
   ]
  },
  {
   "cell_type": "code",
   "execution_count": null,
   "id": "022886b3-1c58-4f7d-b034-80eb5efd293f",
   "metadata": {
    "tags": []
   },
   "outputs": [],
   "source": [
    "# video_df.to_csv(\"C:/Users/Vasu/Desktop/API projects/youtube_api/youtube_Video_processed.csv\", index = False)"
   ]
  },
  {
   "cell_type": "code",
   "execution_count": null,
   "id": "b3219bfc-4ca4-40f8-8e16-4f411de87755",
   "metadata": {
    "tags": []
   },
   "outputs": [],
   "source": [
    "# channel_stats.to_csv(\"C:/Users/Vasu/Desktop/API projects/youtube_api/channel_stats.csv\", index = False)"
   ]
  },
  {
   "cell_type": "code",
   "execution_count": null,
   "id": "d0b2976e-dc7a-4000-b51c-e04b00dd0445",
   "metadata": {},
   "outputs": [],
   "source": []
  }
 ],
 "metadata": {
  "kernelspec": {
   "display_name": "Python 3 (ipykernel)",
   "language": "python",
   "name": "python3"
  },
  "language_info": {
   "codemirror_mode": {
    "name": "ipython",
    "version": 3
   },
   "file_extension": ".py",
   "mimetype": "text/x-python",
   "name": "python",
   "nbconvert_exporter": "python",
   "pygments_lexer": "ipython3",
   "version": "3.11.5"
  }
 },
 "nbformat": 4,
 "nbformat_minor": 5
}
